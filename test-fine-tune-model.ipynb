{
 "cells": [
  {
   "cell_type": "code",
   "execution_count": 2,
   "metadata": {},
   "outputs": [],
   "source": [
    "# After finishing fine-tune, test fine-tune model\n",
    "\n",
    "import asana\n",
    "import openai\n",
    "import os\n",
    "import requests\n",
    "import json\n",
    "from dotenv import load_dotenv\n",
    "\n",
    "# Load environment variables from .env file\n",
    "load_dotenv()\n",
    "\n",
    "# Set up Asana API key\n",
    "ASANA_API_KEY = os.getenv('ASANA_API_KEY')\n",
    "asana_client = asana.Client.access_token(ASANA_API_KEY)\n",
    "\n",
    "OPENAI_API_KEY = os.getenv('OPENAI_API_KEY')\n",
    "openai.api_key = OPENAI_API_KEY\n",
    "\n",
    "def get_asana_task(task_gid):\n",
    "    client = asana.Client.access_token(ASANA_API_KEY)\n",
    "    client.headers.update({\n",
    "        \"Asana-Enable\": \"new_user_task_lists,new_goal_memberships\"\n",
    "    })\n",
    "    task = client.tasks.get_task(task_gid)\n",
    "    return task\n",
    "\n",
    "task_gid = '1204288733958816' # Replace with the task ID you want to process\n",
    "task = get_asana_task(task_gid)\n",
    "# Check if '描述' is present in task['notes']\n",
    "if '描述' in task['notes']:\n",
    "    defect_description = task['notes']\n",
    "else: # If not, get task name as defect description\n",
    "    defect_description = task['name']\n",
    "prompt = f\"將以下描述轉為test case: {defect_description} \"\n",
    "\n",
    "# Use your fine-tuned model\n",
    "model_name = \"davinci:ft-personal-2023-04-16-12-09-03\" # Replace with the your fine-tune model ID\n",
    "\n",
    "response = openai.Completion.create(\n",
    "    model=model_name,\n",
    "    prompt=prompt,\n",
    "    max_tokens=500,\n",
    "    temperature=0.8,\n",
    ")\n",
    "\n",
    "test_steps = response.choices[0].text.strip()\n",
    "print(test_steps)"
   ]
  }
 ],
 "metadata": {
  "kernelspec": {
   "display_name": "base",
   "language": "python",
   "name": "python3"
  },
  "language_info": {
   "codemirror_mode": {
    "name": "ipython",
    "version": 3
   },
   "file_extension": ".py",
   "mimetype": "text/x-python",
   "name": "python",
   "nbconvert_exporter": "python",
   "pygments_lexer": "ipython3",
   "version": "3.9.12"
  },
  "orig_nbformat": 4
 },
 "nbformat": 4,
 "nbformat_minor": 2
}
